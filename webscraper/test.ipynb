{
 "cells": [
  {
   "cell_type": "code",
   "execution_count": 4,
   "metadata": {},
   "outputs": [
    {
     "name": "stdout",
     "output_type": "stream",
     "text": [
      "<tr>\n",
      "<td>Row 1 Column 1</td>\n",
      "<td>Row 1 Column 2</td>\n",
      "</tr>\n"
     ]
    }
   ],
   "source": [
    "from bs4 import BeautifulSoup\n",
    "\n",
    "html = '''\n",
    "<table>\n",
    "    <tr>\n",
    "        <td>Column 1</td>\n",
    "        <td>Column 2</td>\n",
    "    </tr>\n",
    "    <tr>\n",
    "        <td>Row 1 Column 1</td>\n",
    "        <td>Row 1 Column 2</td>\n",
    "    </tr>\n",
    "    <tr>\n",
    "        <td>Row 2 Column 1</td>\n",
    "        <td>Row 2 Column 2</td>\n",
    "    </tr>\n",
    "</table>\n",
    "'''\n",
    "\n",
    "soup = BeautifulSoup(html, 'html.parser')\n",
    "\n",
    "# Find all <tr> elements that contain a <td> element with the text 'Row 1 Column 1'\n",
    "rows = soup.find_all(lambda tag: any(td.text == 'Row 1 Column 1' for td in tag.find_all('td') if tag.name == 'tr'))\n",
    "\n",
    "for row in rows:\n",
    "    print(row)\n"
   ]
  },
  {
   "cell_type": "code",
   "execution_count": 5,
   "metadata": {},
   "outputs": [
    {
     "name": "stdout",
     "output_type": "stream",
     "text": [
      "<table>\n",
      "<tr>\n",
      "<td>Column 1</td>\n",
      "<td>Column 2</td>\n",
      "<td>Column 3</td>\n",
      "</tr>\n",
      "<tr>\n",
      "<td>Row 1 Column 1</td>\n",
      "<td>Row 1 Column 2</td>\n",
      "<td>Row 1 Column 3</td>\n",
      "</tr>\n",
      "</table>\n",
      "<table>\n",
      "<tr>\n",
      "<td>Casdfolumn 1</td>\n",
      "<td>Column 2</td>\n",
      "<td>Coadsflumn 3</td>\n",
      "</tr>\n",
      "<tr>\n",
      "<td>Row 1 Column 1</td>\n",
      "<td>Rowasdf 1 Column 2</td>\n",
      "<td>Row 1 Column 3</td>\n",
      "</tr>\n",
      "</table>\n"
     ]
    }
   ],
   "source": [
    "from bs4 import BeautifulSoup\n",
    "\n",
    "html = '''\n",
    "<table>\n",
    "    <tr>\n",
    "        <td>Column 1</td>\n",
    "        <td>Column 2</td>\n",
    "        <td>Column 3</td>\n",
    "    </tr>\n",
    "    <tr>\n",
    "        <td>Row 1 Column 1</td>\n",
    "        <td>Row 1 Column 2</td>\n",
    "        <td>Row 1 Column 3</td>\n",
    "    </tr>\n",
    "</table>\n",
    "<table>\n",
    "    <tr>\n",
    "        <td>Casdfolumn 1</td>\n",
    "        <td>Column 2</td>\n",
    "        <td>Coadsflumn 3</td>\n",
    "    </tr>\n",
    "    <tr>\n",
    "        <td>Row 1 Column 1</td>\n",
    "        <td>Rowasdf 1 Column 2</td>\n",
    "        <td>Row 1 Column 3</td>\n",
    "    </tr>\n",
    "</table>\n",
    "<table>\n",
    "    <tr>\n",
    "        <td>Column 1</td>\n",
    "        <td>Column 2</td>\n",
    "    </tr>\n",
    "    <tr>\n",
    "        <td>Row 1 Column 1</td>\n",
    "        <td>Row 1 Column 2</td>\n",
    "    </tr>\n",
    "</table>\n",
    "'''\n",
    "\n",
    "soup = BeautifulSoup(html, 'html.parser')\n",
    "\n",
    "k = 3\n",
    "\n",
    "# Find all <table> elements that have exactly 3 <td> child elements\n",
    "tables = soup.find_all('table')\n",
    "\n",
    "result = [table  for table in tables if len(table.find(\"tr\").find_all(['td','th'])) == k]\n",
    "\n",
    "for table in result:\n",
    "    print(table)\n"
   ]
  }
 ],
 "metadata": {
  "kernelspec": {
   "display_name": "challenges",
   "language": "python",
   "name": "python3"
  },
  "language_info": {
   "codemirror_mode": {
    "name": "ipython",
    "version": 3
   },
   "file_extension": ".py",
   "mimetype": "text/x-python",
   "name": "python",
   "nbconvert_exporter": "python",
   "pygments_lexer": "ipython3",
   "version": "3.10.8"
  },
  "orig_nbformat": 4,
  "vscode": {
   "interpreter": {
    "hash": "04c31dcafd0db2749b06131fc5232bd82ff11c7fecb409550901ab0eb0e5e698"
   }
  }
 },
 "nbformat": 4,
 "nbformat_minor": 2
}
